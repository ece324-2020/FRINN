{
  "nbformat": 4,
  "nbformat_minor": 0,
  "metadata": {
    "colab": {
      "name": "Baseline.ipynb",
      "provenance": [],
      "collapsed_sections": []
    },
    "kernelspec": {
      "display_name": "Python 3",
      "name": "python3"
    }
  },
  "cells": [
    {
      "cell_type": "code",
      "metadata": {
        "id": "Qblq1aAGwxeh",
        "colab": {
          "base_uri": "https://localhost:8080/"
        },
        "outputId": "2fed19d1-57f6-4fbf-9c08-1c649f561ded"
      },
      "source": [
        "from google.colab import drive\n",
        "drive.mount('/content/drive')"
      ],
      "execution_count": null,
      "outputs": [
        {
          "output_type": "stream",
          "text": [
            "Drive already mounted at /content/drive; to attempt to forcibly remount, call drive.mount(\"/content/drive\", force_remount=True).\n"
          ],
          "name": "stdout"
        }
      ]
    },
    {
      "cell_type": "code",
      "metadata": {
        "id": "nM-qDsWz629j"
      },
      "source": [
        "import numpy as np\n",
        "import pandas as pd\n",
        "from sklearn.ensemble import RandomForestClassifier\n",
        "from sklearn.metrics import accuracy_score\n",
        "import os\n",
        "from sklearn.model_selection import train_test_split\n",
        "from torchvision import datasets, transforms\n",
        "from torch.utils.data import DataLoader\n",
        "import torch\n",
        "from sklearn.metrics import confusion_matrix, classification_report\n",
        "import seaborn as sns\n",
        "import matplotlib.pyplot as plt\n"
      ],
      "execution_count": null,
      "outputs": []
    },
    {
      "cell_type": "markdown",
      "metadata": {
        "id": "aeu8fsVHXTuD"
      },
      "source": [
        "Find Mean of Entire Dataset"
      ]
    },
    {
      "cell_type": "code",
      "metadata": {
        "id": "qsS_e4G7I8js"
      },
      "source": [
        "mtransform = transforms.Compose([\n",
        "  transforms.ToTensor(),\n",
        "  transforms.Resize((224,224)),\n",
        "  transforms.ToTensor()  \n",
        "])\n",
        "\n",
        "dataset = datasets.ImageFolder(r\"C:\\Users\\Mark\\Desktop\\3rd year 1st term\\ECE324\\Project\\Clean Data\\Clean Data\", transform=transform)\n",
        "data_loader = torch.utils.data.DataLoader(dataset)\n",
        "\n",
        "training_stds = []\n",
        "training_means = []\n",
        "\n",
        "for image, label in data_loader:\n",
        "    training_means.append(image.mean(axis=(0, 2, 3)).numpy())\n",
        "    training_stds.append(image.std(axis=(0, 2, 3)).numpy())\n",
        "    \n",
        "training_means = np.array(training_means).mean(axis=0)\n",
        "training_stds = np.array(training_stds).mean(axis=0)"
      ],
      "execution_count": null,
      "outputs": []
    },
    {
      "cell_type": "markdown",
      "metadata": {
        "id": "zOQzTaL-XYMX"
      },
      "source": [
        "Load and Save Dataloader"
      ]
    },
    {
      "cell_type": "code",
      "metadata": {
        "id": "KGe-6Wg424UY"
      },
      "source": [
        "my_transform = transforms.Compose([\n",
        "  transforms.Resize((224,224),interpolation=2),\n",
        "  transforms.ToTensor(),\n",
        "  transforms.Normalize([0.6643941, 0.56042176, 0.44903898],[0.31932876, 0.3313484, 0.34955227])\n",
        "])\n",
        "dataset = datasets.ImageFolder(r\"C:\\Users\\Mark\\Desktop\\3rd year 1st term\\ECE324\\Project\\Clean Data\\Clean Data\", transform=my_transform)\n",
        "\n",
        "train_data, valid_data, test_data = torch.utils.data.random_split(dataset, [9600,2400,3000], generator=torch.Generator().manual_seed(0))\n",
        "\n",
        "\n",
        "train_loader = DataLoader(train_data, batch_size=len(train_data),shuffle = True)\n",
        "valid_loader = DataLoader(valid_data, batch_size=len(valid_data),shuffle = True)\n",
        "test_loader = DataLoader(test_data, batch_size=len(test_data),shuffle = True)"
      ],
      "execution_count": null,
      "outputs": []
    },
    {
      "cell_type": "code",
      "metadata": {
        "id": "8DgPZNkZ_fFl"
      },
      "source": [
        "torch.save(train_loader, r\"C:\\Users\\Mark\\Desktop\\3rd year 1st term\\ECE324\\Project\\Baseline\\train_loader\")\n",
        "torch.save(valid_loader, r\"C:\\Users\\Mark\\Desktop\\3rd year 1st term\\ECE324\\Project\\Baseline\\valid_loader\")\n",
        "torch.save(test_loader, r\"C:\\Users\\Mark\\Desktop\\3rd year 1st term\\ECE324\\Project\\Baseline\\test_loader\")"
      ],
      "execution_count": null,
      "outputs": []
    },
    {
      "cell_type": "code",
      "metadata": {
        "id": "kgpbPuVbxvmI"
      },
      "source": [
        "train_loader = torch.load(r\"C:\\Users\\Mark\\Desktop\\3rd year 1st term\\ECE324\\Project\\Baseline\\train_loader\")\n",
        "valid_loader = torch.load(r\"C:\\Users\\Mark\\Desktop\\3rd year 1st term\\ECE324\\Project\\Baseline\\valid_loader\")\n",
        "test_loader = torch.load(r\"C:\\Users\\Mark\\Desktop\\3rd year 1st term\\ECE324\\Project\\Baseline\\test_loader\")"
      ],
      "execution_count": null,
      "outputs": []
    },
    {
      "cell_type": "markdown",
      "metadata": {
        "id": "wztaDbJLXboN"
      },
      "source": [
        "Calculate mean and standard deviation"
      ]
    },
    {
      "cell_type": "code",
      "metadata": {
        "id": "Oeh3fhLJyYA2"
      },
      "source": [
        "def std_mean(image):\n",
        "    output = []\n",
        "    #batch size\n",
        "    #torch.Size([64, 3, 224, 224])\n",
        "    for j in range(8):\n",
        "        #arbiturary size\n",
        "        for k in range(8):\n",
        "            std = image[:,j*28:(j+1)*28,k*28:(k+1)*28].std()\n",
        "            avg = image[:,j*28:(j+1)*28,k*28:(k+1)*28].mean()\n",
        "            output.append(std)\n",
        "            output.append(avg)\n",
        "    return output"
      ],
      "execution_count": null,
      "outputs": []
    },
    {
      "cell_type": "markdown",
      "metadata": {
        "id": "z2VzFN0-XglI"
      },
      "source": [
        "Relabel Functions"
      ]
    },
    {
      "cell_type": "code",
      "metadata": {
        "id": "DD3i3ivQInrY"
      },
      "source": [
        "def relabel_state(argument):\n",
        "    switcher = {\n",
        "        0: 0,\n",
        "        1: 0,\n",
        "        2: 0,\n",
        "        3: 0,\n",
        "        4: 0,\n",
        "        5: 1,\n",
        "        6: 1,\n",
        "        7: 1,\n",
        "        8: 1,\n",
        "        9: 1,\n",
        "        10:2,\n",
        "        11:2,\n",
        "        12:2,\n",
        "        13:2,\n",
        "        14:2}\n",
        "    return switcher[argument.item()]\n",
        "\n",
        "def relabel_type(argument):\n",
        "    switcher = {\n",
        "        0: 0,\n",
        "        1: 1,\n",
        "        2: 2,\n",
        "        3: 3,\n",
        "        4: 4,\n",
        "        5: 0,\n",
        "        6: 1,\n",
        "        7: 2,\n",
        "        8: 3,\n",
        "        9: 4,\n",
        "        10:0,\n",
        "        11:1,\n",
        "        12:2,\n",
        "        13:3,\n",
        "        14:4}\n",
        "    return switcher[argument.item()]"
      ],
      "execution_count": null,
      "outputs": []
    },
    {
      "cell_type": "markdown",
      "metadata": {
        "id": "2gFpEg-9Xk-7"
      },
      "source": [
        "Convert Train, Valid, and Test Images to mean and standard deviation"
      ]
    },
    {
      "cell_type": "code",
      "metadata": {
        "id": "YkVTJ1Yv-LWZ"
      },
      "source": [
        "fruit_train_images_standard = np.zeros((len(train_data),128))\n",
        "fruit_train_t_label = np.zeros((len(train_data)))\n",
        "fruit_train_s_label = np.zeros((len(train_data)))\n",
        "fruit_train_label = np.zeros((len(train_data)))\n",
        "\n",
        "for image, label in train_loader:\n",
        "    for i in range(len(label)):\n",
        "        fruit_train_images_standard[i,:] = std_mean(image[i])\n",
        "        fruit_train_t_label[i] = relabel_type(label[i])\n",
        "        fruit_train_s_label[i] = relabel_state(label[i])\n",
        "        fruit_train_label[i] = label[i]\n",
        "\n",
        "np.save(r\"C:\\Users\\Mark\\Desktop\\3rd year 1st term\\ECE324\\Project\\Baseline\\Numpy\\fruit_train_images_standard.npy\", fruit_train_images_standard)\n",
        "np.save(r\"C:\\Users\\Mark\\Desktop\\3rd year 1st term\\ECE324\\Project\\Baseline\\Numpy\\fruit_train_t_label.npy\", fruit_train_t_label)\n",
        "np.save(r\"C:\\Users\\Mark\\Desktop\\3rd year 1st term\\ECE324\\Project\\Baseline\\Numpy\\fruit_train_s_label.npy\", fruit_train_s_label)\n",
        "np.save(r\"C:\\Users\\Mark\\Desktop\\3rd year 1st term\\ECE324\\Project\\Baseline\\Numpy\\fruit_train_label.npy\", fruit_train_label)"
      ],
      "execution_count": null,
      "outputs": []
    },
    {
      "cell_type": "code",
      "metadata": {
        "id": "dSXEBsfl-lkK"
      },
      "source": [
        "fruit_valid_images_standard = np.zeros((len(valid_data),128))\n",
        "fruit_valid_t_label = np.zeros((len(valid_data)))\n",
        "fruit_valid_s_label = np.zeros((len(valid_data)))\n",
        "fruit_valid_label = np.zeros((len(valid_data)))\n",
        "\n",
        "for image, label in valid_loader:\n",
        "    for i in range(len(label)):\n",
        "        fruit_valid_images_standard[i,:] = std_mean(image[i])\n",
        "        fruit_valid_t_label[i] = relabel_type(label[i])\n",
        "        fruit_valid_s_label[i] = relabel_state(label[i])\n",
        "        fruit_valid_label[i] = label[i]\n",
        "\n",
        "np.save(r\"C:\\Users\\Mark\\Desktop\\3rd year 1st term\\ECE324\\Project\\Baseline\\Numpy\\fruit_valid_images_standard.npy\", fruit_valid_images_standard)\n",
        "np.save(r\"C:\\Users\\Mark\\Desktop\\3rd year 1st term\\ECE324\\Project\\Baseline\\Numpy\\fruit_valid_t_label.npy\", fruit_valid_t_label)\n",
        "np.save(r\"C:\\Users\\Mark\\Desktop\\3rd year 1st term\\ECE324\\Project\\Baseline\\Numpy\\fruit_valid_s_label.npy\", fruit_valid_s_label)\n",
        "np.save(r\"C:\\Users\\Mark\\Desktop\\3rd year 1st term\\ECE324\\Project\\Baseline\\Numpy\\fruit_valid_label.npy\", fruit_valid_label)"
      ],
      "execution_count": null,
      "outputs": []
    },
    {
      "cell_type": "code",
      "metadata": {
        "id": "vGgRgAkh-yg5"
      },
      "source": [
        "fruit_test_images_standard = np.zeros((len(test_data),128))\n",
        "fruit_test_t_label = np.zeros((len(test_data)))\n",
        "fruit_test_s_label = np.zeros((len(test_data)))\n",
        "fruit_test_label = np.zeros((len(test_data)))\n",
        "\n",
        "for image, label in test_loader:\n",
        "    for i in range(len(label)):\n",
        "        fruit_test_images_standard[i,:] = std_mean(image[i])\n",
        "        fruit_test_t_label[i] = relabel_type(label[i])\n",
        "        fruit_test_s_label[i] = relabel_state(label[i])\n",
        "        fruit_test_label[i] = label[i]\n",
        "\n",
        "np.save(r\"C:\\Users\\Mark\\Desktop\\3rd year 1st term\\ECE324\\Project\\Baseline\\Numpy\\fruit_test_images_standard.npy\", fruit_test_images_standard)\n",
        "np.save(r\"C:\\Users\\Mark\\Desktop\\3rd year 1st term\\ECE324\\Project\\Baseline\\Numpy\\fruit_test_t_label.npy\", fruit_test_t_label)\n",
        "np.save(r\"C:\\Users\\Mark\\Desktop\\3rd year 1st term\\ECE324\\Project\\Baseline\\Numpy\\fruit_test_s_label.npy\", fruit_test_s_label)\n",
        "np.save(r\"C:\\Users\\Mark\\Desktop\\3rd year 1st term\\ECE324\\Project\\Baseline\\Numpy\\fruit_test_label.npy\", fruit_test_label)"
      ],
      "execution_count": null,
      "outputs": []
    },
    {
      "cell_type": "markdown",
      "metadata": {
        "id": "HWrSKIy5Xt02"
      },
      "source": [
        "Load Saved Numpy Array of data and label"
      ]
    },
    {
      "cell_type": "code",
      "metadata": {
        "id": "KcHO_A2Z-4vJ"
      },
      "source": [
        "fruit_train_images_standard = np.load(r\"C:\\Users\\Mark\\Desktop\\3rd year 1st term\\ECE324\\Project\\Baseline\\Numpy\\fruit_train_images_standard.npy\")\n",
        "fruit_train_t_label = np.load(r\"C:\\Users\\Mark\\Desktop\\3rd year 1st term\\ECE324\\Project\\Baseline\\Numpy\\fruit_train_t_label.npy\")\n",
        "fruit_train_s_label = np.load(r\"C:\\Users\\Mark\\Desktop\\3rd year 1st term\\ECE324\\Project\\Baseline\\Numpy\\fruit_train_s_label.npy\")\n",
        "fruit_train_label = np.load(r\"C:\\Users\\Mark\\Desktop\\3rd year 1st term\\ECE324\\Project\\Baseline\\Numpy\\fruit_train_label.npy\")\n",
        "print(fruit_train_images_standard.shape)"
      ],
      "execution_count": null,
      "outputs": []
    },
    {
      "cell_type": "code",
      "metadata": {
        "id": "aul2yDkQ-7uj"
      },
      "source": [
        "fruit_valid_images_standard = np.load(r\"C:\\Users\\Mark\\Desktop\\3rd year 1st term\\ECE324\\Project\\Baseline\\Numpy\\fruit_valid_images_standard.npy\")\n",
        "fruit_valid_t_label = np.load(r\"C:\\Users\\Mark\\Desktop\\3rd year 1st term\\ECE324\\Project\\Baseline\\Numpy\\fruit_valid_t_label.npy\")\n",
        "fruit_valid_s_label = np.load(r\"C:\\Users\\Mark\\Desktop\\3rd year 1st term\\ECE324\\Project\\Baseline\\Numpy\\fruit_valid_s_label.npy\")\n",
        "fruit_valid_label = np.load(r\"C:\\Users\\Mark\\Desktop\\3rd year 1st term\\ECE324\\Project\\Baseline\\Numpy\\fruit_valid_label.npy\")\n",
        "print(fruit_valid_images_standard.shape)"
      ],
      "execution_count": null,
      "outputs": []
    },
    {
      "cell_type": "code",
      "metadata": {
        "id": "F_4VBTlFIyLS"
      },
      "source": [
        "fruit_test_images_standard = np.load(r\"C:\\Users\\Mark\\Desktop\\3rd year 1st term\\ECE324\\Project\\Baseline\\Numpy\\fruit_test_images_standard.npy\")\n",
        "fruit_test_t_label = np.load(r\"C:\\Users\\Mark\\Desktop\\3rd year 1st term\\ECE324\\Project\\Baseline\\Numpy\\fruit_test_t_label.npy\")\n",
        "fruit_test_s_label = np.load(r\"C:\\Users\\Mark\\Desktop\\3rd year 1st term\\ECE324\\Project\\Baseline\\Numpy\\fruit_test_s_label.npy\")\n",
        "fruit_test_label = np.load(r\"C:\\Users\\Mark\\Desktop\\3rd year 1st term\\ECE324\\Project\\Baseline\\Numpy\\fruit_test_label.npy\")\n",
        "print(fruit_test_images_standard.shape)"
      ],
      "execution_count": null,
      "outputs": []
    },
    {
      "cell_type": "code",
      "metadata": {
        "id": "XDZ5w7Mlu8wT",
        "colab": {
          "base_uri": "https://localhost:8080/"
        },
        "outputId": "d05a6667-3c8d-413d-e4fb-4ba1cab9a0e4"
      },
      "source": [
        "if fruit_train_t_images_standard.all() == fruit_train_s_images_standard.all():\n",
        "    print('x')"
      ],
      "execution_count": null,
      "outputs": [
        {
          "output_type": "stream",
          "text": [
            "x\n"
          ],
          "name": "stdout"
        }
      ]
    },
    {
      "cell_type": "markdown",
      "metadata": {
        "id": "h_nnno3KX2E9"
      },
      "source": [
        "3 Random Forest Classifier: Type, State and Combined"
      ]
    },
    {
      "cell_type": "code",
      "metadata": {
        "id": "IiDdD3vczTSa"
      },
      "source": [
        "rft = RandomForestClassifier(n_estimators = 100, criterion = 'entropy', random_state = 42)\n",
        "\n",
        "rft.fit(fruit_train_images_standard, fruit_train_t_label)\n",
        "\n",
        "predictions = rft.predict(fruit_valid_images_standard)\n",
        "accuracy=accuracy_score(predictions ,fruit_valid_t_label)\n",
        "print('Type Valid Accuracy:', accuracy*100, '%.')\n",
        "\n",
        "predictions = rft.predict(fruit_test_images_standard)\n",
        "accuracy=accuracy_score(predictions ,fruit_test_t_label)\n",
        "print('Type Test Accuracy:', accuracy*100, '%.')\n",
        "\n",
        "conf_mat_type=confusion_matrix(fruit_test_t_label, predictions)\n",
        "class_report_type = classification_report(fruit_test_t_label, predictions)"
      ],
      "execution_count": null,
      "outputs": []
    },
    {
      "cell_type": "code",
      "metadata": {
        "id": "xpJkQZUm8jTH"
      },
      "source": [
        "rfs = RandomForestClassifier(n_estimators = 100, criterion = 'entropy', random_state = 42)\n",
        "rfs.fit(fruit_train_images_standard, fruit_train_s_label)\n",
        "predictions = rfs.predict(fruit_valid_images_standard)\n",
        "accuracy=accuracy_score(predictions ,fruit_valid_s_label)\n",
        "print('State Valid Accuracy:', accuracy*100, '%.')\n",
        "\n",
        "predictions = rfs.predict(fruit_test_images_standard)\n",
        "accuracy=accuracy_score(predictions ,fruit_test_s_label)\n",
        "print('State Test Accuracy:', accuracy*100, '%.')\n",
        "\n",
        "\n",
        "conf_mat_state=confusion_matrix(fruit_test_s_label, predictions)\n",
        "class_report_state = classification_report(fruit_test_s_label, predictions)"
      ],
      "execution_count": null,
      "outputs": []
    },
    {
      "cell_type": "code",
      "metadata": {
        "id": "kCM2UNStXDqH"
      },
      "source": [
        "rf = RandomForestClassifier(n_estimators = 100, criterion = 'entropy', random_state = 42)\n",
        "rf.fit(fruit_train_images_standard, fruit_train_label)\n",
        "\n",
        "predictions = rf.predict(fruit_valid_images_standard)\n",
        "accuracy=accuracy_score(predictions ,fruit_valid_label)\n",
        "print('Valid Accuracy:', accuracy*100, '%.')\n",
        "\n",
        "predictions = rf.predict(fruit_test_images_standard)\n",
        "accuracy=accuracy_score(predictions ,fruit_test_label)\n",
        "print('Test Accuracy:', accuracy*100, '%.')\n",
        "\n",
        "conf_mat=confusion_matrix(fruit_test_label, predictions)\n",
        "class_report = classification_report(fruit_test_label, predictions)"
      ],
      "execution_count": null,
      "outputs": []
    },
    {
      "cell_type": "markdown",
      "metadata": {
        "id": "BA84s7FRYADb"
      },
      "source": [
        "Visualization of Confusion Matrix"
      ]
    },
    {
      "cell_type": "code",
      "metadata": {
        "id": "BWZROfQEXFe5"
      },
      "source": [
        "plt.figure()\n",
        "total_map = sns.heatmap(conf_mat,cmap=\"YlGnBu\", annot=True,fmt='g',square = True,xticklabels=['ri_A', 'ri_B', 'ri_O', 'ri_R', 'ri_S', 'ro_A', 'ro_B', 'ro_O', 'ro_R', 'ro_S', 'ur_A', 'ur_B', 'ur_O', 'ur_R', 'ur_S'], yticklabels=['ri_A', 'ri_B', 'ri_O', 'ri_R', 'ri_S', 'ro_A', 'ro_B', 'ro_O', 'ro_R', 'ro_S', 'ur_A', 'ur_B', 'ur_O', 'ur_R', 'ur_S'] )\n",
        "bottom, top = total_map.get_ylim()\n",
        "total_map.set_ylim(bottom + 0.5, top - 0.5)\n",
        "total_map.set_title('Total Confusion Matrix')\n",
        "total_map.set_ylabel('True Label')\n",
        "total_map.set_xlabel('Predicted Label')\n",
        "plt.show()\n",
        "\n",
        "\n",
        "plt.figure()\n",
        "state_map = sns.heatmap(conf_mat_state,cmap=\"YlGnBu\", annot=True,fmt='g',square = True,xticklabels=['Ripe', 'Rotten', 'Unripe'], yticklabels=['Ripe', 'Rotten', 'Unripe'] )\n",
        "bottom, top = state_map.get_ylim()\n",
        "state_map.set_ylim(bottom + 0.5, top - 0.5)\n",
        "state_map.set_title('State Confusion Matrix')\n",
        "state_map.set_ylabel('True Label')\n",
        "state_map.set_xlabel('Predicted Label')\n",
        "plt.show()\n",
        "\n",
        "plt.figure()\n",
        "type_map = sns.heatmap(conf_mat_type,cmap=\"YlGnBu\", annot=True,fmt='g',square = True,xticklabels=['Apple','Banna','Orange','Raspberry','Strawberry'], yticklabels=['Apple','Banna','Orange','Raspberry','Strawberry'] )\n",
        "bottom, top = type_map.get_ylim()\n",
        "type_map.set_ylim(bottom + 0.5, top - 0.5)\n",
        "type_map.set_title('Type Confusion Matrix')\n",
        "type_map.set_ylabel('True Label')\n",
        "type_map.set_xlabel('Predicted Label')\n",
        "plt.show()\n",
        "\n",
        "print(class_report_state)\n",
        "print(class_report_type)\n",
        "print(class_report)\n"
      ],
      "execution_count": null,
      "outputs": []
    }
  ]
}