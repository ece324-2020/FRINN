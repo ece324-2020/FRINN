{
  "nbformat": 4,
  "nbformat_minor": 0,
  "metadata": {
    "colab": {
      "name": "multihead_conv_net_FINAL.ipynb",
      "provenance": [],
      "collapsed_sections": []
    },
    "kernelspec": {
      "name": "python3",
      "display_name": "Python 3"
    },
    "accelerator": "GPU"
  },
  "cells": [
    {
      "cell_type": "markdown",
      "metadata": {
        "id": "1n9d60rhiYBs"
      },
      "source": [
        "### **Import and Mount**"
      ]
    },
    {
      "cell_type": "code",
      "metadata": {
        "id": "P_b09jRDiX0v"
      },
      "source": [
        "from google.colab import drive\n",
        "drive.mount('/content/drive')\n",
        "import numpy as np                                              \n",
        "import pandas as pd                                             \n",
        "import matplotlib.pyplot as plt                                 \n",
        "import torchvision                \n",
        "import torchvision.transforms as transforms              \n",
        "from torch.utils.data import SubsetRandomSampler \n",
        "import torch.utils.data as data   \n",
        "import torch\n",
        "import torch.nn as nn\n",
        "from torchsummary import summary\n",
        "import torch.nn.functional as F\n",
        "import sys\n",
        "from time import time\n",
        "sys.path.append('/content/drive/My Drive/ECE324 project/Additional files')\n",
        "sys.path.append('/content/drive/My Drive/ECE324 project/Clean Data')\n",
        "from Data_Loader import *\n"
      ],
      "execution_count": null,
      "outputs": []
    },
    {
      "cell_type": "code",
      "metadata": {
        "id": "g1iLBfXmWnw5",
        "colab": {
          "base_uri": "https://localhost:8080/"
        },
        "outputId": "76542f0b-2a48-448b-c895-a2173517e005"
      },
      "source": [
        "device = torch.device(\"cuda\" if torch.cuda.is_available() else \"cpu\")\n",
        "print(device)"
      ],
      "execution_count": null,
      "outputs": [
        {
          "output_type": "stream",
          "text": [
            "cuda\n"
          ],
          "name": "stdout"
        }
      ]
    },
    {
      "cell_type": "markdown",
      "metadata": {
        "id": "-1MId-kYaGLE"
      },
      "source": [
        "###**Next is the actual instantiation of Dataloader classes, but for this need batch_size argument for the train Dataloader class**\n"
      ]
    },
    {
      "cell_type": "code",
      "metadata": {
        "id": "Vy1PW1kSaGsE"
      },
      "source": [
        "\n",
        "my_transform = transforms.Compose([\n",
        "  transforms.ToTensor(),\n",
        "  transforms.Resize((224,224)),\n",
        "  transforms.Normalize(mean = [0.66445047,0.55465436,0.447036], std = [0.321551,0.33547384,0.3524585])\n",
        "  ])\n",
        "\n",
        "dataset =  torchvision.datasets.ImageFolder(root='/content/drive/MyDrive/ECE324 project/Clean Data', transform=my_transform)\n",
        "\n",
        "train_data, valid_data, test_data = torch.utils.data.random_split(dataset, [9600,2400,2999], generator=torch.Generator().manual_seed(0))\n",
        "\n",
        "train_loader = DataLoader(train_data, batch_size=64,shuffle= True)                  \n",
        "valid_loader = DataLoader(valid_data, batch_size=64,shuffle= True)\n",
        "test_loader = DataLoader(test_data, batch_size=64,shuffle= True)\n",
        "\n",
        "def relabel_state(argument):\n",
        "    switcher = {\n",
        "        0: 0,\n",
        "        1: 0,\n",
        "        2: 0,\n",
        "        3: 0,\n",
        "        4: 0,\n",
        "        5: 1,\n",
        "        6: 1,\n",
        "        7: 1,\n",
        "        8: 1,\n",
        "        9: 1,\n",
        "        10:2,\n",
        "        11:2,\n",
        "        12:2,\n",
        "        13:2,\n",
        "        14:2}\n",
        "    return switcher[argument.item()]\n",
        "\n",
        "def relabel_type(argument):\n",
        "    switcher = {\n",
        "        0: 0,\n",
        "        1: 1,\n",
        "        2: 2,\n",
        "        3: 3,\n",
        "        4: 4,\n",
        "        5: 0,\n",
        "        6: 1,\n",
        "        7: 2,\n",
        "        8: 3,\n",
        "        9: 4,\n",
        "        10:0,\n",
        "        11:1,\n",
        "        12:2,\n",
        "        13:3,\n",
        "        14:4}\n",
        "    return switcher[argument.item()]"
      ],
      "execution_count": null,
      "outputs": []
    },
    {
      "cell_type": "markdown",
      "metadata": {
        "id": "kVEuQAMeZBRC"
      },
      "source": [
        "### **Various CNN architectures- Still not done**\n"
      ]
    },
    {
      "cell_type": "code",
      "metadata": {
        "id": "TaATluBy5dNc"
      },
      "source": [
        "# CNN Model\n",
        "class CNN(nn.Module):\n",
        "  def __init__(self):\n",
        "    super(CNN,self).__init__()\n",
        "    # Convolution layers\n",
        "    self.conv1 = nn.Conv2d(3,6,5) # 6 kernels, 5x5\n",
        "    self.pool = nn.MaxPool2d(2,2)\n",
        "    self.conv2 = nn.Conv2d(6,16,5) # 16 kernels, 5x5\n",
        "\n",
        "    # MLP State\n",
        "    self.fc1 = nn.Linear(44944,120)\n",
        "    self.fc2 = nn.Linear(120,84)\n",
        "    self.fc3 = nn.Linear(84,3)\n",
        "\n",
        "    # MLP Type\n",
        "    self.fc4 = nn.Linear(44944,120)\n",
        "    self.fc5 = nn.Linear(120,84)\n",
        "    self.fc6 = nn.Linear(84,5)\n",
        "\n",
        "    #self.drop = nn.Dropout(p=0.5)\n",
        "    #self.drop_conv = nn.Dropout(p=0.1)\n",
        "    self.Bn1 = nn.BatchNorm2d(6)\n",
        "    self.Bn2 = nn.BatchNorm2d(16)\n",
        "    #self.batchnorm = nn.BatchNorm2d(512, eps=1e-05, momentum=0.1, affine=True, track_running_stats=True)\n",
        "\n",
        "  def forward(self,x):\n",
        "    x = self.pool(F.relu(self.Bn1(self.conv1(x))))\n",
        "    x = self.pool(F.relu(self.Bn2(self.conv2(x))))\n",
        "    x = x.view(x.size(0), -1)\n",
        "\n",
        "    # State head\n",
        "    x1 = F.relu(self.fc1(x))\n",
        "    x1 = F.relu(self.fc2(x1))\n",
        "    x1 = self.fc3(x1)\n",
        "\n",
        "    # Type head\n",
        "    x2 = F.relu(self.fc4(x))\n",
        "    x2 = F.relu(self.fc5(x2))\n",
        "    x2 = self.fc6(x2)\n",
        "\n",
        "    return x1, x2"
      ],
      "execution_count": 57,
      "outputs": []
    },
    {
      "cell_type": "code",
      "metadata": {
        "id": "ASTrZauU-Q7Y"
      },
      "source": [
        "class CNN_(nn.Module):\n",
        "  def __init__(self):\n",
        "    super(CNN_,self).__init__()\n",
        "    # Convolution layers\n",
        "    self.conv1 = nn.Conv2d(3,6,5) # 6 kernels, 5x5\n",
        "    self.pool = nn.MaxPool2d(2,2)\n",
        "    self.conv2 = nn.Conv2d(6,8,5) # 16 kernels, 5x5\n",
        "    self.conv3 = nn.Conv2d(8,12,5)\n",
        "\n",
        "    # MLP State\n",
        "    self.fc1 = nn.Linear(6912,100)\n",
        "    self.fc2 = nn.Linear(100,54)\n",
        "    self.fc3 = nn.Linear(54,3)\n",
        "\n",
        "    # MLP Type\n",
        "    self.fc4 = nn.Linear(6912,100)\n",
        "    self.fc5 = nn.Linear(100,54)\n",
        "    self.fc6 = nn.Linear(54,5)\n",
        "\n",
        "    self.drop = nn.Dropout(p=0.5)\n",
        "    \n",
        "\n",
        "    #self.batchnorm = nn.BatchNorm2d(512, eps=1e-05, momentum=0.1, affine=True, track_running_stats=True)\n",
        "\n",
        "  def forward(self,x):\n",
        "    x = self.pool(F.relu(self.conv1(x)))\n",
        "    x = self.pool(F.relu(self.conv2(x)))\n",
        "    x = self.pool(F.relu(self.conv3(x)))\n",
        "    x = x.view(x.size(0), -1)\n",
        "\n",
        "\n",
        "    # State head\n",
        "    x1 = F.relu(self.fc1(x))\n",
        "    x1 = F.relu(self.fc2(x1))\n",
        "    x1 = self.fc3(x1)\n",
        "\n",
        "    # Type head\n",
        "    x2 = F.relu(self.fc4(x))\n",
        "    x2 = F.relu(self.fc5(x2))\n",
        "    x2 = self.fc6(x2)\n",
        "\n",
        "    return x1, x2"
      ],
      "execution_count": null,
      "outputs": []
    },
    {
      "cell_type": "markdown",
      "metadata": {
        "id": "vfzN0KARYsnr"
      },
      "source": [
        "### **Training loop - Instantiate arguments and parameters**"
      ]
    },
    {
      "cell_type": "code",
      "metadata": {
        "id": "-mUAxODs2LQi"
      },
      "source": [
        "#MODEL ARGUMENTS\n",
        "lr = 0.01\n",
        "epochs = 20\n",
        "eval_every = 5\n",
        "model = CNN()\n",
        "\n",
        "model.to(device)\n",
        "\n",
        "\n",
        "optimizer = torch.optim.SGD(model.parameters(), lr=lr)\n",
        "loss_fnc= torch.nn.CrossEntropyLoss()\n",
        "\n",
        "loss_fnc.to(device)\n",
        "\n",
        "\n",
        "\n",
        "#OUTPUT DATA ARGUMENTS\n",
        "seed = 1\n",
        "torch.manual_seed(seed)\n",
        "save= True\n",
        "confusion=True\n",
        "plot = True\n",
        "statistics = True"
      ],
      "execution_count": 58,
      "outputs": []
    },
    {
      "cell_type": "markdown",
      "metadata": {
        "id": "P7J53Vdz68Nb"
      },
      "source": [
        "### **Training loop using train and validation**"
      ]
    },
    {
      "cell_type": "code",
      "metadata": {
        "id": "1RzcbvXXf_pP"
      },
      "source": [
        "#Prepare plotting lists\n",
        "train_loss_list = []\n",
        "valid_loss_list = []\n",
        "test_loss_list = []\n",
        "train_acc_list = []\n",
        "valid_acc_list = []\n",
        "test_acc_list = []\n",
        "\n",
        "train_loss_list_state = []\n",
        "valid_loss_list_state = []\n",
        "test_loss_list_state = []\n",
        "train_acc_list_state = []\n",
        "valid_acc_list_state = []\n",
        "test_acc_list_state = []\n",
        "\n",
        "train_loss_list_type = []\n",
        "valid_loss_list_type = []\n",
        "test_loss_list_type = []\n",
        "train_acc_list_type = []\n",
        "valid_acc_list_type = []\n",
        "test_acc_list_type = []\n",
        "\n",
        "\n",
        "epoch_list = []         #Epoch number\n",
        "start = time()          #Time training process\n",
        "\n",
        "for e in range(epochs):\n",
        "    running_loss = []\n",
        "    running_accuracy = []\n",
        "    running_loss_state = []\n",
        "    running_accuracy_state = []\n",
        "    running_loss_type = []\n",
        "    running_accuracy_type = []\n",
        "\n",
        "\n",
        "    running_valid_loss = []\n",
        "    running_valid_accuracy = []\n",
        "    running_valid_loss_state = []\n",
        "    running_valid_accuracy_state = []\n",
        "    running_valid_loss_type = []\n",
        "    running_valid_accuracy_type = []\n",
        "\n",
        "    '''running_test_loss = []\n",
        "    running_test_accuracy = []\n",
        "    running_test_loss_state = []\n",
        "    running_test_accuracy_state = []\n",
        "    running_test_loss_type = []\n",
        "    running_test_accuracy_type = []'''\n",
        "\n",
        "    print(\"going thru data , epoch {}\".format(e))\n",
        "  #               LOOKING AT TRAINING DATA\n",
        "\n",
        "    for i, data in enumerate(train_loader):\n",
        "\n",
        "               #get batch of \n",
        "\n",
        "        \n",
        "        #inputs, label = data\n",
        "\n",
        "        #label_state = torch.zeros(len(label))\n",
        "        #label_type = torch.zeros(len(label))\n",
        "\n",
        "        inputs, label = data[0].to(device),data[1].to(device)\n",
        "\n",
        "        label_state = torch.zeros(len(label)).to(device)\n",
        "        label_type = torch.zeros(len(label)).to(device)\n",
        "\n",
        "        for k in range(len(label)):\n",
        "          label_state[k] = relabel_state(label[k])\n",
        "          label_type[k] = relabel_type(label[k])\n",
        "\n",
        "\n",
        "\n",
        "\n",
        "\n",
        "            #setting gradients to zero and running model on batch\n",
        "        optimizer.zero_grad()\n",
        "        predictions_state, predictions_type = model(inputs)\n",
        "\n",
        "            #computing loss based on Cross Entropy\n",
        "        batch_loss_state = loss_fnc(input=predictions_state.squeeze(), target=label_state.long())\n",
        "        batch_loss_type = loss_fnc(input=predictions_type.squeeze(), target=label_type.long())\n",
        "\n",
        "        #Combining losses and calculating gradients\n",
        "        Overall_loss = batch_loss_state + batch_loss_type\n",
        "        Overall_loss.backward()\n",
        "        optimizer.step()\n",
        "        #evaluating Training Acc\n",
        "        _, predicted_state = torch.max(predictions_state.data, 1)\n",
        "        _,predicted_type = torch.max(predictions_type.data, 1)\n",
        "        trainAcc_state = (label_state == predicted_state).sum().item() / 64\n",
        "        trainAcc_type = (label_type == predicted_type).sum().item() /64\n",
        "\n",
        "        if i % eval_every == 0:\n",
        "            print(\"epoch: {} |||   loss type:   {}  trainAcc type:   {} |||  loss state {}  trainAcc state:  {}  \".format(e+1, batch_loss_type, trainAcc_type, batch_loss_state, trainAcc_state))\n",
        "\n",
        "        running_loss.append(Overall_loss.item())\n",
        "        running_accuracy.append((trainAcc_state+trainAcc_type)/2)\n",
        "        running_loss_state.append(batch_loss_state.item())\n",
        "        running_accuracy_state.append(trainAcc_state)\n",
        "        running_loss_type.append(batch_loss_type.item())\n",
        "        running_accuracy_type.append(trainAcc_type)\n",
        "        del Overall_loss\n",
        "        del batch_loss_state\n",
        "        del batch_loss_type\n",
        "        del label_state\n",
        "        del label_type\n",
        "        del predictions_state\n",
        "        del predictions_type\n",
        "\n",
        "        \n",
        "    #               LOOKING AT Validation DATA\n",
        "    for j, data_v in enumerate(valid_loader):\n",
        "            #get batch of data\n",
        "        inputs_v, label_v = data_v[0].to(device),data_v[1].to(device)\n",
        "    \n",
        "        label_state_v = torch.zeros(len(label_v)).to(device)\n",
        "        label_type_v = torch.zeros(len(label_v)).to(device)\n",
        "\n",
        "        #inputs_v, label_v = data_v\n",
        "    \n",
        "        #label_state_v = torch.zeros(len(label_v))\n",
        "        #label_type_v = torch.zeros(len(label_v))\n",
        "        for a in range(len(label_v)):\n",
        "          label_state_v[a] = relabel_state(label_v[a])\n",
        "          label_type_v[a] = relabel_type(label_v[a])\n",
        "\n",
        "          #run model on validation batch\n",
        "        predictions_state_v, predictions_type_v = model(inputs_v)\n",
        "\n",
        "            #compute loss\n",
        "        batch_valid_loss_state = loss_fnc(input=predictions_state_v.squeeze(), target=label_state_v.long())\n",
        "        batch_valid_loss_type = loss_fnc(input=predictions_type_v.squeeze(), target=label_type_v.long())\n",
        "\n",
        "        Overall_loss_v = batch_valid_loss_state + batch_valid_loss_type\n",
        "\n",
        "            #evaluate\n",
        "        _, predicted_state_v = torch.max(predictions_state_v.data, 1)\n",
        "        _,predicted_type_v = torch.max(predictions_type_v.data, 1)\n",
        "\n",
        "        validAcc_state = (label_state_v == predicted_state_v).sum().item() / 64\n",
        "        validAcc_type = (label_type_v == predicted_type_v).sum().item() / 64\n",
        "\n",
        "        if j % eval_every == 0:\n",
        "             print(\"epoch: {} |||   vloss type:   {}  validAcc type:   {} |||  vloss state {}  validAcc state:  {}  \".format(e+1, batch_valid_loss_type, validAcc_type, batch_valid_loss_state,validAcc_state))\n",
        "        \n",
        "        running_valid_loss.append(Overall_loss_v.item())\n",
        "        running_valid_accuracy.append((validAcc_state+validAcc_type)/2)\n",
        "    \n",
        "        running_valid_loss_state.append(batch_valid_loss_state.item())\n",
        "        running_valid_accuracy_state.append(validAcc_state)\n",
        "        running_valid_loss_type.append(batch_valid_loss_type.item())\n",
        "        running_valid_accuracy_type.append(validAcc_type)\n",
        "\n",
        "        del Overall_loss_v\n",
        "        del batch_valid_loss_state\n",
        "        del batch_valid_loss_type\n",
        "        del label_state_v\n",
        "        del label_type_v\n",
        "        del predictions_state_v\n",
        "        del predictions_type_v\n",
        "\n",
        "\n",
        "    #               LOOKING AT test DATA\n",
        "    '''for k, (data_state_test, data_type_test) in enumerate((zip(test_loader_state,test_loader_type)):\n",
        "            #get batch of data\n",
        "        inputs_state_t, labels_state_t = data_state_test\n",
        "        inputs_type_t, labels_type_t = data_type_test\n",
        "        if inputs_state_t!= inputs_type_t:\n",
        "          print(\" STOP THE TRAINING\")\n",
        "          print(\" !!!!!!!!!  You screwed up the test dataloader (for {})    !!!!!!!!!!!!\".format(i))\n",
        "          print(\" !!!!!!!!!  You screwed up the test dataloader (for {})    !!!!!!!!!!!!\".format(i))\n",
        "          print(\" !!!!!!!!!  You screwed up the test dataloader (for {})    !!!!!!!!!!!!\".format(i))\n",
        "          print(\" STOP THE TRAINING\")\n",
        "          break\n",
        "        else:\n",
        "          inputs_t = inputs_state_t    \n",
        "\n",
        "          #run model on validation batch\n",
        "        predictions_state_t, predictions_type_t = model(inputs_t)\n",
        "\n",
        "            #compute loss\n",
        "        batch_test_loss_state = loss_fnc(input=predictions_state_t.squeeze(), target=labels_state_t.long())\n",
        "        batch_test_loss_type = loss_fnc(input=predictions_type_t.squeeze(), target=labels_type_t.long())\n",
        "\n",
        "        Overall_loss_t = batch_test_loss_state + batch_test_loss_type\n",
        "\n",
        "            #evaluate\n",
        "        _, predicted_state_t = torch.max(predictions_state_t.data, 1)\n",
        "        _,predicted_type_t = torch.max(predictions_type_t.data, 1)\n",
        "\n",
        "        testAcc_state = (labels_state_t == predicted_state_t).sum().item() / len(test_idx)\n",
        "        testAcc_type = (labels_type_t == predicted_type_t).sum().item() / len(test_idx)\n",
        "\n",
        "        if k % eval_every == 0:\n",
        "             print(\"epoch: {} |||   test loss type:   {}  testAcc type:   {} |||  test loss state {}  testAcc state:  {}  \".format(e+1, batch_test_loss_type, testAcc_type, batch_test_loss_state, testAcc_state))\n",
        "        \n",
        "        running_test_loss.append(Overall_loss_t)\n",
        "        running_test_accuracy.append((testAcc_state+testAcc_type)/2)\n",
        "    \n",
        "        running_test_loss_state.append(batch_test_loss_state)\n",
        "        running_test_accuracy_state.append(testAcc_state)\n",
        "        running_test_loss_type.append(batch_test_loss_type)\n",
        "        running_test_accuracy_type.append(testAcc_type)'''\n",
        "\n",
        "\n",
        "\n",
        "\n",
        "        #--------------Storing data from every epoch into lists--------------\n",
        "\n",
        "    #             lists for TRAINING accuracy\n",
        "    #Overall accuracy\n",
        "    trainacc_ = sum(running_accuracy) / float(len(running_accuracy))\n",
        "    train_acc_list.append(trainacc_)\n",
        "    #state accuracy\n",
        "    trainacc_state_ = sum(running_accuracy_state) / float(len(running_accuracy_state))\n",
        "    train_acc_list_state.append(trainacc_state_)\n",
        "    #type accuracy\n",
        "    trainAcc_type_ = sum(running_accuracy_type) / float(len(running_accuracy_type))\n",
        "    train_acc_list_type.append(trainAcc_type_)\n",
        "\n",
        "    #             lists for TRAINING losses\n",
        "    #Overall Loss\n",
        "    loss_ = sum(running_loss) / float(len(running_loss))\n",
        "    train_loss_list.append(loss_)\n",
        "    #State Loss\n",
        "    loss_state_ = sum(running_loss_state) / float(len(running_loss_state))\n",
        "    train_loss_list_state.append(loss_state_)\n",
        "    #Type Loss\n",
        "    loss_type_ = sum(running_loss_type) / float(len(running_loss_type))\n",
        "    train_loss_list_type.append(loss_type_)\n",
        "\n",
        "\n",
        "    #------------------------------------------------------------------------------------\n",
        "    #             lists for VALIDATION accuracy\n",
        "    #Overall accuracy\n",
        "    validacc_ = sum(running_valid_accuracy) / float(len(running_valid_accuracy))\n",
        "    valid_acc_list.append(validacc_)\n",
        "    #state accuracy\n",
        "    validacc_state_ = sum(running_valid_accuracy_state) / float(len(running_valid_accuracy_state))\n",
        "    valid_acc_list_state.append(validacc_state_)\n",
        "    #type accuracy\n",
        "    validAcc_type_ = sum(running_valid_accuracy_type) / float(len(running_valid_accuracy_type))\n",
        "    valid_acc_list_type.append(validAcc_type_)\n",
        "\n",
        "    #             lists for VALIDATION losses\n",
        "    #Overall Loss\n",
        "    valid_loss_ = sum(running_valid_loss) / float(len(running_valid_loss))\n",
        "    valid_loss_list.append(valid_loss_)\n",
        "    #State Loss\n",
        "    valid_loss_state_ = sum(running_valid_loss_state) / float(len(running_valid_loss_state))\n",
        "    valid_loss_list_state.append(valid_loss_state_)\n",
        "    #Type Loss\n",
        "    valid_loss_type_ = sum(running_valid_loss_type) / float(len(running_valid_loss_type))\n",
        "    valid_loss_list_type.append(valid_loss_type_)\n",
        "\n",
        "    #------------------------------------------------------------------------------------\n",
        "        #             lists for TEST accuracy\n",
        "    #Overall accuracy\n",
        "    '''testacc_ = sum(running_test_accuracy) / float(len(running_test_accuracy))\n",
        "    test_acc_list.append(testacc_)\n",
        "    #state accuracy\n",
        "    testAcc_state_ = sum(running_test_accuracy_state) / float(len(running_test_accuracy_state))\n",
        "    test_acc_list_state.append(testAcc_state_)\n",
        "    #type accuracy\n",
        "    testAcc_type_ = sum(running_test_accuracy_type) / float(len(running_test_accuracy_type))\n",
        "    test_acc_list_type.append(testAcc_type_)\n",
        "\n",
        "    #             lists for TEST losses\n",
        "    #Overall Loss\n",
        "    test_loss_ = sum(running_test_loss) / float(len(running_test_loss))\n",
        "    test_loss_list.append(test_loss_)\n",
        "    #State Loss\n",
        "    test_loss_state_ = sum(running_test_loss_state) / float(len(running_test_loss_state))\n",
        "    test_loss_list_state.append(test_loss_state_)\n",
        "    #Type Loss\n",
        "    test_loss_type_ = sum(running_test_loss_type) / float(len(running_test_loss_type))\n",
        "    test_loss_list_type.append(test_loss_type_)'''\n",
        "\n",
        "\n",
        "    epoch_list.append(e)\n",
        "\n",
        "end = time()\n",
        "\n",
        "#Quick training stats\n",
        "print(\"Total training time: \", end - start)\n",
        "print(\"Epochs trained for:\",len(epoch_list))\n",
        "print(\"Max train Acc: \", max(train_acc_list))\n",
        "print(\"Max valid Acc: \", max(valid_acc_list))\n",
        "#print(\"Max test Acc: \", max(test_acc_list))\n"
      ],
      "execution_count": null,
      "outputs": []
    },
    {
      "cell_type": "markdown",
      "metadata": {
        "id": "3zkjQt-KbEsC"
      },
      "source": [
        "### **PLOTTING**"
      ]
    },
    {
      "cell_type": "code",
      "metadata": {
        "id": "0tkaHoH1bLBG",
        "colab": {
          "base_uri": "https://localhost:8080/",
          "height": 1000
        },
        "outputId": "72b9ed9d-7133-41af-b7f8-6b07d326560a"
      },
      "source": [
        "if plot == True:\n",
        "        #Plot overall loss vs epoch\n",
        "        plt.plot(epoch_list, train_loss_list, label='Train')\n",
        "        plt.plot(epoch_list, valid_loss_list, label='Valid')\n",
        "        plt.title('Overall Loss vs. Epoch')\n",
        "        plt.xlabel('Epoch')\n",
        "        plt.ylabel('Loss')\n",
        "        plt.show()\n",
        "\n",
        "        #Plot overall Accuracy vs epoch\n",
        "        plt.plot(epoch_list, train_acc_list, label='Train')\n",
        "        plt.plot(epoch_list, valid_acc_list, label='Valid')\n",
        "        plt.title('Training Accuracy vs. Epoch')\n",
        "        plt.xlabel('Epoch')\n",
        "        plt.ylabel('Accuracy')\n",
        "        plt.legend()\n",
        "        plt.show()\n",
        "\n",
        "                #Plot TYPE loss vs epoch\n",
        "        plt.plot(epoch_list, train_loss_list_type, label='Train')\n",
        "        plt.plot(epoch_list, valid_loss_list_type, label='Valid')\n",
        "        plt.title('Type Loss vs. Epoch')\n",
        "        plt.xlabel('Epoch')\n",
        "        plt.ylabel('Loss')\n",
        "        plt.show()\n",
        "\n",
        "                #Plot TYPE Accuracy vs epoch\n",
        "        plt.plot(epoch_list, train_acc_list_type, label='Train')\n",
        "        plt.plot(epoch_list, valid_acc_list_type, label='Valid')\n",
        "        plt.title('Type Accuracy vs. Epoch')\n",
        "        plt.xlabel('Epoch')\n",
        "        plt.ylabel('Accuracy')\n",
        "        plt.legend()\n",
        "        plt.show()\n",
        "\n",
        "                #Plot STATE loss vs epoch\n",
        "        plt.plot(epoch_list, train_loss_list_state, label='Train')\n",
        "        plt.plot(epoch_list, valid_loss_list_state, label='Valid')\n",
        "        plt.title('State Loss vs. Epoch')\n",
        "        plt.xlabel('Epoch')\n",
        "        plt.ylabel('Loss')\n",
        "        plt.show()\n",
        "\n",
        "                #Plot STATE Accuracy vs epoch\n",
        "        plt.plot(epoch_list, train_acc_list_state, label='Train')\n",
        "        plt.plot(epoch_list, valid_acc_list_state, label='Valid')\n",
        "        plt.title('State Accuracy vs. Epoch')\n",
        "        plt.xlabel('Epoch')\n",
        "        plt.ylabel('Accuracy')\n",
        "        plt.legend()\n",
        "        plt.show()\n",
        "\n"
      ],
      "execution_count": null,
      "outputs": [
        {
          "output_type": "display_data",
          "data": {
            "image/png": "[encoded data removed]",
            "text/plain": [
              "<Figure size 432x288 with 1 Axes>"
            ]
          },
          "metadata": {
            "tags": [],
            "needs_background": "light"
          }
        },
        {
          "output_type": "display_data",
          "data": {
            "image/png": "[encoded data removed]",
            "text/plain": [
              "<Figure size 432x288 with 1 Axes>"
            ]
          },
          "metadata": {
            "tags": [],
            "needs_background": "light"
          }
        },
        {
          "output_type": "display_data",
          "data": {
            "image/png": "[encoded data removed]",
            "text/plain": [
              "<Figure size 432x288 with 1 Axes>"
            ]
          },
          "metadata": {
            "tags": [],
            "needs_background": "light"
          }
        },
        {
          "output_type": "display_data",
          "data": {
            "image/png": "[encoded data removed]",
            "text/plain": [
              "<Figure size 432x288 with 1 Axes>"
            ]
          },
          "metadata": {
            "tags": [],
            "needs_background": "light"
          }
        },
        {
          "output_type": "display_data",
          "data": {
            "image/png": "[encoded data removed]",
            "text/plain": [
              "<Figure size 432x288 with 1 Axes>"
            ]
          },
          "metadata": {
            "tags": [],
            "needs_background": "light"
          }
        },
        {
          "output_type": "display_data",
          "data": {
            "image/png": "[encoded data removed]",
            "text/plain": [
              "<Figure size 432x288 with 1 Axes>"
            ]
          },
          "metadata": {
            "tags": [],
            "needs_background": "light"
          }
        }
      ]
    },
    {
      "cell_type": "markdown",
      "metadata": {
        "id": "XKjTO-9SdafC"
      },
      "source": [
        "### **Confusion Matrix**\n"
      ]
    },
    {
      "cell_type": "code",
      "metadata": {
        "id": "0_E-3ZjbdX7G"
      },
      "source": [
        "#Calculating the confusion matrix\n",
        "if confusion == True:\n",
        "    transform = transforms.Compose(\n",
        "            [transforms.ToTensor(),\n",
        "             transforms.Normalize((0.5, 0.5, 0.5), (0.5, 0.5, 0.5))])\n",
        "    target_transform = transforms.Compose([transforms.Lambda(lambda x: one_hot(x, 10))])\n",
        "    dataTest = torchvision.datasets.ImageFolder('/Users/arnauddeza/PycharmProjects/2020-SUMMER/Michael-Liut-Piazza-Bot/ECE324/ASS_4/training_v2', transform=transform,\n",
        "                                                    target_transform=target_transform)\n",
        "    _, Confuse_validData = train_test_split(dataTest, test_size=0.2, random_state=1)\n",
        "    inputs = [0 for i in range(len(Confuse_validData))]\n",
        "    for i in range(len(inputs)):\n",
        "            inputs[i] = Confuse_validData[i][0].tolist()\n",
        "    inputs = torch.FloatTensor(inputs)\n",
        "    outputs = model(inputs)\n",
        "    outputs = unencode(outputs)\n",
        "    labels = [Confuse_validData[i][1].tolist() for i in range(len(Confuse_validData))]\n",
        "    labels = unencode(torch.FloatTensor(labels))\n",
        "    print(confusion_matrix(labels, outputs))\n",
        "    #saving model if part 6"
      ],
      "execution_count": null,
      "outputs": []
    },
    {
      "cell_type": "markdown",
      "metadata": {
        "id": "dZPhkiTodbdN"
      },
      "source": [
        "### **F1, RECALL, ETC (Performance Stats)**\n"
      ]
    },
    {
      "cell_type": "code",
      "metadata": {
        "id": "qxqI1yDvdZB5"
      },
      "source": [
        ""
      ],
      "execution_count": null,
      "outputs": []
    },
    {
      "cell_type": "markdown",
      "metadata": {
        "id": "rmXi9zvAdcW1"
      },
      "source": [
        "### **Summary of model**\n"
      ]
    },
    {
      "cell_type": "code",
      "metadata": {
        "id": "sEg3Fhs1dZfI"
      },
      "source": [
        "if summary == True:\n",
        "  summary(model, (3, 224, 224))\n"
      ],
      "execution_count": null,
      "outputs": []
    },
    {
      "cell_type": "markdown",
      "metadata": {
        "id": "Mi_zcyard2lp"
      },
      "source": [
        "### **Saving model**\n"
      ]
    },
    {
      "cell_type": "code",
      "metadata": {
        "id": "ZCi7K77ld4CN"
      },
      "source": [
        "if save == True:\n",
        "    torch.save(model.state_dict(),'MyBest.pt')"
      ],
      "execution_count": null,
      "outputs": []
    },
    {
      "cell_type": "markdown",
      "metadata": {
        "id": "F17jE04heKSS"
      },
      "source": [
        "# **SPECIALIZED TEST SETS**\n",
        "### **Background check**"
      ]
    },
    {
      "cell_type": "code",
      "metadata": {
        "id": "DMDADM4NbCMk"
      },
      "source": [
        ""
      ],
      "execution_count": null,
      "outputs": []
    }
  ]
}